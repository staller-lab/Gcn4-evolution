{
 "cells": [
  {
   "cell_type": "code",
   "execution_count": 3,
   "id": "e75a7fb3",
   "metadata": {},
   "outputs": [],
   "source": [
    "from sparrow.protein import Protein\n",
    "import matplotlib.pyplot as plt\n",
    "import pandas as pd\n",
    "import numpy as np\n",
    "from tqdm import tqdm"
   ]
  },
  {
   "cell_type": "code",
   "execution_count": 4,
   "id": "08a03bcc",
   "metadata": {},
   "outputs": [],
   "source": [
    "# Read in the top most active sequences\n",
    "f1 = open(\"AllSeqs_Activity_at_WxxLF_-50_+20_all138.fasta\")\n",
    "seq_dict = {}\n",
    "header = \"\"\n",
    "body = \"\"\n",
    "for line in f1:\n",
    "    if line.startswith('>'):\n",
    "        if header != \"\": \n",
    "            seq_dict[header] = body\n",
    "            body = \"\"\n",
    "        header = line.strip()\n",
    "    else: \n",
    "        body += line.strip()\n",
    "\n",
    "data = pd.DataFrame.from_dict(seq_dict, orient='index')\n",
    "data.columns = [\"Sequence\"]\n",
    "\n",
    "seqs = data[\"Sequence\"].values"
   ]
  },
  {
   "cell_type": "code",
   "execution_count": 5,
   "id": "ad3e71dc",
   "metadata": {},
   "outputs": [
    {
     "name": "stderr",
     "output_type": "stream",
     "text": [
      " 15%|█▌        | 21/137 [00:00<00:02, 44.83it/s]"
     ]
    },
    {
     "name": "stdout",
     "output_type": "stream",
     "text": [
      "Error importing GPy.\n",
      " If trying to run parrot-optimize, make sure to use `pip install idptools-parrot[optimize]`\n"
     ]
    },
    {
     "name": "stderr",
     "output_type": "stream",
     "text": [
      "100%|██████████| 137/137 [00:01<00:00, 114.22it/s]\n"
     ]
    }
   ],
   "source": [
    "# Use sparrow to predict helicity\n",
    "predictions = []\n",
    "\n",
    "means = []\n",
    "maxs = []\n",
    "helix = []\n",
    "\n",
    "for i in tqdm(range(len(seqs))):\n",
    "    P = Protein(seqs[i])\n",
    "    # Predict helicity, returns tuple of 1/0 (yes/no helix) and probability of helix for each residue\n",
    "    preds = P.predictor.dssp_helicity(mode=\"both\")\n",
    "\n",
    "    # Save probabilities\n",
    "    predictions.append(preds[1])\n",
    "\n",
    "    # Save yes/no helix\n",
    "    helix.append(preds[0])\n",
    "\n",
    "    # Get max helical probability across all residues\n",
    "    maxs.append(preds[1].max())\n",
    "\n",
    "    # Get mean helical probability across all residues\n",
    "    means.append(preds[1].mean())\n",
    "    "
   ]
  },
  {
   "cell_type": "code",
   "execution_count": 6,
   "id": "4a87b70f",
   "metadata": {},
   "outputs": [],
   "source": [
    "data[\"helix\"] = helix\n",
    "data[\"mean_helix_prob\"] = means\n",
    "data[\"max_helix_prob\"] = maxs"
   ]
  },
  {
   "cell_type": "code",
   "execution_count": 7,
   "id": "06dd4ef0",
   "metadata": {},
   "outputs": [
    {
     "data": {
      "text/plain": [
       "Text(0, 0.5, 'Number of sequence')"
      ]
     },
     "execution_count": 7,
     "metadata": {},
     "output_type": "execute_result"
    },
    {
     "data": {
      "image/png": "[encoded data removed]",
      "text/plain": [
       "<Figure size 640x480 with 1 Axes>"
      ]
     },
     "metadata": {},
     "output_type": "display_data"
    }
   ],
   "source": [
    "# Plot maximum probability\n",
    "plt.hist(data[\"max_helix_prob\"], bins=25)\n",
    "plt.xlabel(\"Maximum per residue helix probability\")\n",
    "plt.ylabel(\"Number of sequence\")"
   ]
  },
  {
   "cell_type": "code",
   "execution_count": 8,
   "id": "fc1e0219-592d-4e0d-9441-98717659065b",
   "metadata": {},
   "outputs": [],
   "source": [
    "# Defines a helix as 5 or more residues with over a 50% change of being helical\n",
    "def has_helix(ls):\n",
    "    max = 0\n",
    "    curr_count = 0\n",
    "    for el in ls: \n",
    "        if el == 1:\n",
    "            curr_count += 1\n",
    "        else:\n",
    "            if curr_count > max:\n",
    "                max = curr_count\n",
    "            curr_count =0\n",
    "    if max >= 5:\n",
    "        return 1\n",
    "    else:\n",
    "        return 0"
   ]
  },
  {
   "cell_type": "code",
   "execution_count": 9,
   "id": "c2967cdd-26a9-4c02-a21b-7f3e254273e9",
   "metadata": {},
   "outputs": [],
   "source": [
    "has_helix_list = []\n",
    "\n",
    "for ls in helix:\n",
    "    has_helix_list.append(has_helix(ls))"
   ]
  },
  {
   "cell_type": "code",
   "execution_count": 10,
   "id": "bc04296e-61d1-4a16-af7c-da65175bb0f7",
   "metadata": {},
   "outputs": [
    {
     "data": {
      "text/plain": [
       "38"
      ]
     },
     "execution_count": 10,
     "metadata": {},
     "output_type": "execute_result"
    }
   ],
   "source": [
    "# Number of sequences predicted to have a helix\n",
    "sum(has_helix_list)"
   ]
  }
 ],
 "metadata": {
  "kernelspec": {
   "display_name": "sparrow",
   "language": "python",
   "name": "sparrow"
  },
  "language_info": {
   "codemirror_mode": {
    "name": "ipython",
    "version": 3
   },
   "file_extension": ".py",
   "mimetype": "text/x-python",
   "name": "python",
   "nbconvert_exporter": "python",
   "pygments_lexer": "ipython3",
   "version": "3.11.7"
  }
 },
 "nbformat": 4,
 "nbformat_minor": 5
}
