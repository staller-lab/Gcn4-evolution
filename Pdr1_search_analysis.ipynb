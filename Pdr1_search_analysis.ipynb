{
 "cells": [
  {
   "cell_type": "code",
   "execution_count": 1,
   "metadata": {},
   "outputs": [],
   "source": [
    "import pandas as pd\n",
    "import matplotlib.pyplot as plt\n",
    "from matplotlib.lines import Line2D"
   ]
  },
  {
   "cell_type": "markdown",
   "metadata": {},
   "source": [
    "# Making fasta"
   ]
  },
  {
   "cell_type": "code",
   "execution_count": 2,
   "metadata": {},
   "outputs": [],
   "source": [
    "# Read in the sanborn data and get the most active sequences\n",
    "df = pd.read_table(\"../Pdr1/Pdr1_orthologs_w_act_sanborn.tsv\", header=None)\n",
    "df = df.drop([2,3,4], axis=1)\n",
    "most_active = df.sort_values(5, ascending=False).head(int(len(df)*.25))"
   ]
  },
  {
   "cell_type": "code",
   "execution_count": 3,
   "metadata": {},
   "outputs": [
    {
     "data": {
      "text/plain": [
       "Text(0.5, 0, 'Pdr1 activity score')"
      ]
     },
     "execution_count": 3,
     "metadata": {},
     "output_type": "execute_result"
    },
    {
     "data": {
      "image/png": "[encoded data removed]",
      "text/plain": [
       "<Figure size 640x480 with 1 Axes>"
      ]
     },
     "metadata": {},
     "output_type": "display_data"
    }
   ],
   "source": [
    "# Visualize distribution of activities\n",
    "plt.hist(df[5])\n",
    "plt.xlabel(\"Pdr1 activity score\")"
   ]
  },
  {
   "cell_type": "code",
   "execution_count": 4,
   "metadata": {},
   "outputs": [],
   "source": [
    "# Save the most active sequences as a fasta\n",
    "with open(\"../Pdr1/pdr1_orthologs_most_active_sanborn.fasta\", \"w+\") as f:\n",
    "    for i in most_active.index:\n",
    "        f.write(\">\" + most_active.loc[i, 0] + '\\n')\n",
    "        f.write(most_active.loc[i, 1] + \"\\n\")"
   ]
  },
  {
   "cell_type": "markdown",
   "metadata": {},
   "source": [
    "!mafft --auto ../Pdr1/pdr1_orthologs_most_active_sanborn.fasta > ../Pdr1/pdr1_orthologs_most_active_sanborn.mafft"
   ]
  },
  {
   "cell_type": "markdown",
   "metadata": {},
   "source": [
    "# Loading the alignment"
   ]
  },
  {
   "cell_type": "code",
   "execution_count": 5,
   "metadata": {},
   "outputs": [],
   "source": [
    "# Read in the alignment\n",
    "with open(\"../Pdr1/pdr1_orthologs_most_active_sanborn.mafft\", \"r\") as f:\n",
    "    lines = f.readlines()\n",
    "\n",
    "names = []\n",
    "seqs = []\n",
    "seq = \"\"\n",
    "\n",
    "for line in lines:\n",
    "    if line.startswith(\">\"):\n",
    "        names.append(line.strip().replace(\">\",\"\"))\n",
    "        if len(seq) > 0:\n",
    "            seqs.append(seq)\n",
    "            seq = \"\"\n",
    "    else:\n",
    "        seq += line.strip()\n",
    "\n",
    "seqs.append(seq)\n",
    "\n",
    "alignment_data = pd.DataFrame({'name' : names, 'alignment' : seqs})"
   ]
  },
  {
   "cell_type": "code",
   "execution_count": 6,
   "metadata": {},
   "outputs": [],
   "source": [
    "amino_acid_colors = {\n",
    "    # Purples\n",
    "    'F': '#FFA442',  \n",
    "    'W': '#006CAF',\n",
    "    'L': '#5B2B82',\n",
    "\n",
    "    # Reds\n",
    "    'D': '#E03839', \n",
    "    'E': '#FDA0A5', \n",
    "\n",
    "    # Blues\n",
    "    'K': '#00B3E5',  # Deep sky blue\n",
    "    'R': '#00B3E5',  # Blue \n",
    "\n",
    "    # black\n",
    "    'S': '#000000',  # Gainsboro\n",
    "    'P': '#000000',  # Dim grey\n",
    "\n",
    "    # greys\n",
    "    'A': '#787878',  # Lime green\n",
    "    'V': '#787878',  # Light green\n",
    "    'I': '#787878',  # Sea green\n",
    "    'M': '#787878',  # Olive drab\n",
    "    'T': '#787878',  # Silver\n",
    "    'G': '#787878',  # Slate grey\n",
    "    'C': '#787878',  # Burly wood\n",
    "    'N': '#787878',  # Wheat\n",
    "    'Q': '#787878',  # Tan\n",
    "    'H': '#787878',  \n",
    "    'Y': '#787878', \n",
    "    '-': \"#FFFFFF\"\n",
    "}"
   ]
  },
  {
   "cell_type": "code",
   "execution_count": 7,
   "metadata": {},
   "outputs": [],
   "source": [
    "# Code to make alignment conservation plots\n",
    "def make_alignment_conservation_plot(alignment_file, output_file, remove_gaps=False):\n",
    "    \n",
    "    # Read in alignment file\n",
    "    with open(alignment_file, \"r\") as f:\n",
    "        lines = f.readlines()\n",
    "\n",
    "    names = []\n",
    "    seqs = []\n",
    "    seq = \"\"\n",
    "\n",
    "    for line in lines:\n",
    "        if line.startswith(\">\"):\n",
    "            names.append(line.strip().replace(\">\",\"\"))\n",
    "            if len(seq) > 0:\n",
    "                seqs.append(seq)\n",
    "                seq = \"\"\n",
    "        else:\n",
    "            seq += line.strip()\n",
    "\n",
    "    seqs.append(seq)\n",
    "\n",
    "    # This will determine the position of the amino acid in the plot (i.e. X at the bottom, - at the top)\n",
    "    amino_acids = ['Y', 'H', 'Q','N', 'C', 'G', 'T', 'M', 'I', 'V', 'A', 'S',  'P', 'R', 'K', 'D', 'E', 'L', 'W', 'F', '-']\n",
    "\n",
    "    # List of sequence positions - Each entry is a dictionary with amino acid counts at the position\n",
    "    amino_acid_dicts = [{aa: 0 for aa in amino_acids}.copy() for _ in range(len(seqs[0]))]\n",
    "\n",
    "    # Go through each sequence and count the amino acids at each position\n",
    "    for seq in seqs: \n",
    "        for i, aa in enumerate(seq): \n",
    "            amino_acid_dicts[i][aa] += 1\n",
    "    \n",
    "    if remove_gaps: \n",
    "        filtered_aa_dict = []\n",
    "        for aa_d in amino_acid_dicts:\n",
    "            # Only include positions that are less than 90% gaps\n",
    "            if aa_d['-'] < len(seqs) * .90:\n",
    "                filtered_aa_dict.append(aa_d)\n",
    "        amino_acid_dicts = filtered_aa_dict\n",
    "\n",
    "    from matplotlib.lines import Line2D\n",
    "    fig, ax = plt.subplots(figsize=(20,3))\n",
    "\n",
    "    for i, count_dict in enumerate(amino_acid_dicts): \n",
    "        bottom = 0\n",
    "\n",
    "        # Add to the bar for each amino acid\n",
    "        for aa, count in count_dict.items():\n",
    "            p = ax.bar(i, count/len(seqs), label=aa, bottom=bottom, color = amino_acid_colors[aa])\n",
    "            bottom += count/len(seqs)\n",
    "\n",
    "    ax.set_xlabel(\"Alignment position\")\n",
    "    ax.set_ylabel(\"Percent of sequences\")\n",
    "\n",
    "    custom_lines = []\n",
    "\n",
    "    # Code to add a legend\n",
    "    for color in list(amino_acid_colors.values()):\n",
    "        custom_lines.append(Line2D([0], [0], color=color, lw=2))\n",
    "\n",
    "    ax.legend(custom_lines, list(amino_acid_colors.keys()), bbox_to_anchor=(1.05, 1.05), fontsize=5.5)\n",
    "\n",
    "    plt.savefig(output_file)"
   ]
  },
  {
   "cell_type": "code",
   "execution_count": 8,
   "metadata": {},
   "outputs": [
    {
     "data": {
      "image/png": "[encoded data removed]",
      "text/plain": [
       "<Figure size 2000x300 with 1 Axes>"
      ]
     },
     "metadata": {},
     "output_type": "display_data"
    }
   ],
   "source": [
    "make_alignment_conservation_plot(\"../Pdr1/pdr1_orthologs_most_active_sanborn.mafft\", \"../Pdr1/Pdr1_alignment_conservation_plot.pdf\")"
   ]
  }
 ],
 "metadata": {
  "kernelspec": {
   "display_name": "tada_v2",
   "language": "python",
   "name": "python3"
  },
  "language_info": {
   "codemirror_mode": {
    "name": "ipython",
    "version": 3
   },
   "file_extension": ".py",
   "mimetype": "text/x-python",
   "name": "python",
   "nbconvert_exporter": "python",
   "pygments_lexer": "ipython3",
   "version": "3.9.7"
  }
 },
 "nbformat": 4,
 "nbformat_minor": 2
}
