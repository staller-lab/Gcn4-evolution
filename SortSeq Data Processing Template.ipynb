{
 "cells": [
  {
   "cell_type": "markdown",
   "id": "61113403-0256-44f0-a0f2-509959f09d43",
   "metadata": {},
   "source": [
    "Import Packages and Useful Functions"
   ]
  },
  {
   "cell_type": "code",
   "execution_count": 1,
   "id": "db5c9f5f-2692-4487-ab68-df5d9b2a6d3b",
   "metadata": {},
   "outputs": [],
   "source": [
    "import pandas as pd\n",
    "from labtools.adtools import sort\n",
    "import seaborn as sns\n",
    "import matplotlib.pyplot as plt\n",
    "# Function for writing dictionary to csv file (used for loss tables)\n",
    "import csv\n",
    "\n",
    "name = 'Sort-seq experiment X'\n",
    "\n",
    "def write_dict_to_csv(file_path, dictionary):\n",
    "    with open(file_path, 'w', newline='') as csvfile:\n",
    "        writer = csv.writer(csvfile)\n",
    "        writer.writerow(dictionary.keys())\n",
    "        writer.writerow(dictionary.values())\n",
    "# Function for translating DNA sequences\n",
    "def translate_seq(df):\n",
    "    # Translation table\n",
    "    table = {\n",
    "        'ATA':'I', 'ATC':'I', 'ATT':'I', 'ATG':'M',\n",
    "        'ACA':'T', 'ACC':'T', 'ACG':'T', 'ACT':'T',\n",
    "        'AAC':'N', 'AAT':'N', 'AAA':'K', 'AAG':'K',\n",
    "        'AGC':'S', 'AGT':'S', 'AGA':'R', 'AGG':'R',\n",
    "        'CTA':'L', 'CTC':'L', 'CTG':'L', 'CTT':'L',\n",
    "        'CCA':'P', 'CCC':'P', 'CCG':'P', 'CCT':'P',\n",
    "        'CAC':'H', 'CAT':'H', 'CAA':'Q', 'CAG':'Q',\n",
    "        'CGA':'R', 'CGC':'R', 'CGG':'R', 'CGT':'R',\n",
    "        'GTA':'V', 'GTC':'V', 'GTG':'V', 'GTT':'V',\n",
    "        'GCA':'A', 'GCC':'A', 'GCG':'A', 'GCT':'A',\n",
    "        'GAC':'D', 'GAT':'D', 'GAA':'E', 'GAG':'E',\n",
    "        'GGA':'G', 'GGC':'G', 'GGG':'G', 'GGT':'G',\n",
    "        'TCA':'S', 'TCC':'S', 'TCG':'S', 'TCT':'S',\n",
    "        'TTC':'F', 'TTT':'F', 'TTA':'L', 'TTG':'L',\n",
    "        'TAC':'Y', 'TAT':'Y', 'TAA':'_', 'TAG':'_',\n",
    "        'TGC':'C', 'TGT':'C', 'TGA':'_', 'TGG':'W',\n",
    "    }\n",
    "    # List to store translated protein sequences\n",
    "    protein_list = []\n",
    "    # Translate each DNA sequence in the list\n",
    "    for dnaseq in df[\"DNAseq\"]:\n",
    "        protein = \"\"\n",
    "        # Check if the length of the DNA sequence is divisible by 3\n",
    "        if len(dnaseq) % 3 == 0:\n",
    "            # Iterate over the DNA sequence in steps of 3\n",
    "            for i in range(0, 119, 3):\n",
    "                # Extract a codon from the DNA sequence\n",
    "                codon = dnaseq[i:i + 3]\n",
    "                # Lookup the amino acid corresponding to the codon and append it to the protein sequence\n",
    "                protein += table.get(codon, '')\n",
    "        # Append the translated protein sequence to the list\n",
    "        protein_list.append(protein)\n",
    "    # Add a new column to the DataFrame with the translated protein sequences\n",
    "    df[\"AAseq\"] = protein_list\n",
    "    return df"
   ]
  },
  {
   "cell_type": "markdown",
   "id": "63dba32b-ccc9-45ff-9030-acea1b7f0e34",
   "metadata": {},
   "source": [
    "Initialize the sort"
   ]
  },
  {
   "cell_type": "code",
   "execution_count": 2,
   "id": "67a17273-796a-4c00-8f93-1d696ae6fd1e",
   "metadata": {},
   "outputs": [],
   "source": [
    "my_sort = sort.Sort(['/path/paired_reads_bin1.fastq', '/path/paired_reads_bin2.fastq', \n",
    "                     '/path/paired_reads_bin3.fastq', '/path/paired_reads_bin4.fastq',\n",
    "                     # '/path/paired_reads_bin5_(if-ratio).fastq', '/path/paired_reads_bin6_(if-ratio).fastq', \n",
    "                     # '/path/paired_reads_bin7_(if-ratio).fastq', '/path/paired_reads_bin8_(if-ratio).fastq'\n",
    "                    ], \n",
    "                    # List of number of cells sorted in each bin\n",
    "                    bin_counts = [250000,250000,250000,250000,\n",
    "                                 # 250000, 250000, 250000, 250000                 (if processing 8 bin ratio sort)\n",
    "                                 ],\n",
    "                    # List of median fluorescence values for each bin \n",
    "                    bin_values = [285,2109,3769,8782,\n",
    "                                 # 55222,79875,131603,262143                      (if processing 8 bin ratio sort)\n",
    "                                 ],\n",
    "                    # CSV with all designed sequences in the library\n",
    "                    design_file = \"/path/Gcn4_Design.csv\")"
   ]
  },
  {
   "cell_type": "markdown",
   "id": "f75444d2-eef7-4d6e-bec0-a9fc56c9e140",
   "metadata": {},
   "source": [
    "Process"
   ]
  },
  {
   "cell_type": "code",
   "execution_count": null,
   "id": "33cb9ddf-bcfc-4c55-9b16-7c1d70851442",
   "metadata": {
    "scrolled": true
   },
   "outputs": [],
   "source": [
    "activities, total_reads, reads_per_bin, loss_table = my_sort.process(thresh=40, ad_preceder = \"GCTAGC\", ad_length = 120, barcoded = False)"
   ]
  },
  {
   "cell_type": "markdown",
   "id": "27e80f2f-923b-48c1-a32e-573d98b6bf19",
   "metadata": {},
   "source": [
    "Renaming dataframe columns"
   ]
  },
  {
   "cell_type": "code",
   "execution_count": null,
   "id": "528f322d-10a8-41b8-ad9c-3fe0d061c53f",
   "metadata": {},
   "outputs": [],
   "source": [
    "activities.reset_index(inplace=True)\n",
    "activities.rename(columns={'index': 'DNAseq'}, inplace=True)\n",
    "total_reads = total_reads.reset_index(name='numreads_per_AD')\n",
    "total_reads.rename(columns={'index': 'AD'}, inplace=True)\n",
    "reads_per_bin.index.name = 'AD'\n",
    "reads_per_bin.columns = [0, 1, 2, 3,\n",
    "                        # 4, 5, 6, 7                 (if processing 8 bin ratio sort)\n",
    "                        ]\n",
    "reads_per_bin_reset = reads_per_bin.reset_index()"
   ]
  },
  {
   "cell_type": "markdown",
   "id": "07e7238b-46f9-4095-96a6-a446f91b6031",
   "metadata": {},
   "source": [
    "QC Analyses"
   ]
  },
  {
   "cell_type": "code",
   "execution_count": null,
   "id": "b191431a-1905-4705-b4f4-7d98996639c7",
   "metadata": {},
   "outputs": [],
   "source": [
    "# Calculate included reads and loss_table stats as %s\n",
    "print('sum included reads: ', total_reads['numreads_per_AD'].sum())\n",
    "total_sum = sum([total_reads['numreads_per_AD'].sum(), loss_table['ad_preceder'], loss_table['design_file'], loss_table['thresh']])\n",
    "print('% included reads: ', 100*total_reads['numreads_per_AD'].sum() / total_sum)\n",
    "print('% reads lost ad_preceder: ', 100*loss_table['ad_preceder'] / total_sum)\n",
    "print('% reads lost design_file: ', 100*loss_table['design_file'] / total_sum)\n",
    "print('% reads lost thresh: ', 100*loss_table['thresh'] / total_sum)"
   ]
  },
  {
   "cell_type": "markdown",
   "id": "30acfebd-23b6-4848-bc5d-5c60e0d5ca37",
   "metadata": {},
   "source": [
    "Saving Data"
   ]
  },
  {
   "cell_type": "code",
   "execution_count": null,
   "id": "5a8d5d21-7598-414a-bb8b-966a3922276e",
   "metadata": {},
   "outputs": [],
   "source": [
    "# Make combined dataframe with: DNAseq, AAseq, total reads, readsperbin, activity\n",
    "merge = activities.merge(total_reads, left_index=True, right_index=True)\n",
    "merge = merge.drop(columns=[0, 1, 2, 3,\n",
    "                            # 4, 5, 6, 7,                          (if processing 8 bin ratio sort)\n",
    "                            'AD'])\n",
    "merge2 = merge.merge(reads_per_bin_reset, left_on='DNAseq', right_on='AD')\n",
    "merge2.drop(columns=['AD'], inplace=True)\n",
    "\n",
    "merge2 = translate_seq(merge2)\n",
    "merge2 = merge2.reindex(columns=['DNAseq', 'AAseq', 'numreads_per_AD', 0, 1, 2, 3,\n",
    "                                 # 4, 5, 6, 7,                      (if processing 8 bin ratio sort)\n",
    "                                 'Activity'])\n",
    "merge2.head()"
   ]
  },
  {
   "cell_type": "code",
   "execution_count": 8,
   "id": "1da9e992-9ab5-478b-9686-fa9893b0c121",
   "metadata": {},
   "outputs": [],
   "source": [
    "activities.to_csv(f\"/path/{name}_activities.csv\", index=True)\n",
    "reads_per_bin.to_csv(f\"/path/{name}_readsperbin.csv\", index=True)\n",
    "total_reads.to_csv(f\"/path/{name}_totalreads.csv\", index=True)\n",
    "write_dict_to_csv(f'/path/{name}_loss.csv', loss_table)\n",
    "merge2.to_csv(f'/path/{name}_combined-dataframe.csv', index=True)"
   ]
  }
 ],
 "metadata": {
  "kernelspec": {
   "display_name": "labtools2407",
   "language": "python",
   "name": "labtools2407"
  },
  "language_info": {
   "codemirror_mode": {
    "name": "ipython",
    "version": 3
   },
   "file_extension": ".py",
   "mimetype": "text/x-python",
   "name": "python",
   "nbconvert_exporter": "python",
   "pygments_lexer": "ipython3",
   "version": "3.11.7"
  }
 },
 "nbformat": 4,
 "nbformat_minor": 5
}
